{
  "nbformat": 4,
  "nbformat_minor": 0,
  "metadata": {
    "colab": {
      "name": "es160_mountain_view_map.ipynb",
      "provenance": [],
      "collapsed_sections": [
        "fmRyJ98w8Kjq",
        "FoMsd6wxq--v",
        "KXYIxhEFE7WR",
        "Pk2aiQqJongF",
        "zN9E4oh2L5Y-",
        "3GNh57Qd7F36",
        "E2xJCvaHq6fD",
        "UG--9dq9gO9U",
        "3u7srDFmgMgZ",
        "EXNbYdFM8HeP",
        "q6cKTWgwk3cq",
        "uYtDfMJo3W0b",
        "0vE44-ZVr-et",
        "ChrvCFkruMpX",
        "ro4uMQ0cTmy_"
      ]
    },
    "kernelspec": {
      "name": "python3",
      "display_name": "Python 3"
    },
    "language_info": {
      "name": "python"
    }
  },
  "cells": [
    {
      "cell_type": "markdown",
      "source": [
        "## variables and file paths"
      ],
      "metadata": {
        "id": "EEuTkJmobQc8"
      }
    },
    {
      "cell_type": "code",
      "source": [
        "WORKDIR = \"/gdrive/MyDrive/coterm/earthsys 160 sustainable cities/map data\" # directory containing .shp files\n",
        "\n",
        "\"\"\"\n",
        "input file paths\n",
        "\"\"\"\n",
        "triangles_fp = 'mv_driveways.shp' # polygon .shp of sight triangles around driveways and intersections\n",
        "tree_trunks_fp = 'MV_Trees_Points.shp' # point .shp of tree trunks\n",
        "\n",
        "\"\"\"\n",
        "output file paths\n",
        "\"\"\"\n",
        "compliant_trees_outfp = 'compliant_trees.shp' # output file name for compliant trees\n",
        "noncompliant_trees_outfp = 'noncompliant_trees.shp' # output file name for noncompliant trees\n",
        "new_canopy_outfp = 'new_canopy.shp' # output file name for canopy after tree removal\n",
        "goal_canopy_outfp = 'goal_canopy.shp' # output file name for old canopy + buffer to reach 5% increase\n",
        "goal_canopy2_outfp = 'goal_canopy2.shp' # output file name for new canopy + buffer to reach 5% increase"
      ],
      "metadata": {
        "id": "AA_YB4HebP-S"
      },
      "execution_count": null,
      "outputs": []
    },
    {
      "cell_type": "markdown",
      "metadata": {
        "id": "fmRyJ98w8Kjq"
      },
      "source": [
        "## import libraries and installing"
      ]
    },
    {
      "cell_type": "code",
      "metadata": {
        "colab": {
          "base_uri": "https://localhost:8080/"
        },
        "id": "PdsCMVfb88FQ",
        "outputId": "984e778b-c0b1-4926-90d7-97331f853ceb"
      },
      "source": [
        "from google.colab import drive\n",
        "drive.mount('/gdrive', force_remount=True)"
      ],
      "execution_count": null,
      "outputs": [
        {
          "output_type": "stream",
          "name": "stdout",
          "text": [
            "Mounted at /gdrive\n"
          ]
        }
      ]
    },
    {
      "cell_type": "code",
      "metadata": {
        "colab": {
          "base_uri": "https://localhost:8080/"
        },
        "id": "V_Y74NbX8I_e",
        "outputId": "89e1f253-3605-4e59-aae3-1933c477dad4"
      },
      "source": [
        "!python -m pip install 'fsspec>=0.3.3'\n",
        "!pip install geopandas\n",
        "!pip install pygeos\n"
      ],
      "execution_count": null,
      "outputs": [
        {
          "output_type": "stream",
          "name": "stdout",
          "text": [
            "shell-init: error retrieving current directory: getcwd: cannot access parent directories: Transport endpoint is not connected\n",
            "shell-init: error retrieving current directory: getcwd: cannot access parent directories: Transport endpoint is not connected\n",
            "Traceback (most recent call last):\n",
            "  File \"/usr/lib/python3.7/runpy.py\", line 193, in _run_module_as_main\n",
            "    \"__main__\", mod_spec)\n",
            "  File \"/usr/lib/python3.7/runpy.py\", line 85, in _run_code\n",
            "    exec(code, run_globals)\n",
            "  File \"/usr/local/lib/python3.7/dist-packages/pip/__main__.py\", line 9, in <module>\n",
            "    if sys.path[0] in (\"\", os.getcwd()):\n",
            "OSError: [Errno 107] Transport endpoint is not connected\n",
            "shell-init: error retrieving current directory: getcwd: cannot access parent directories: Transport endpoint is not connected\n",
            "shell-init: error retrieving current directory: getcwd: cannot access parent directories: Transport endpoint is not connected\n",
            "The folder you are executing pip from can no longer be found.\n",
            "shell-init: error retrieving current directory: getcwd: cannot access parent directories: Transport endpoint is not connected\n",
            "shell-init: error retrieving current directory: getcwd: cannot access parent directories: Transport endpoint is not connected\n",
            "The folder you are executing pip from can no longer be found.\n"
          ]
        }
      ]
    },
    {
      "cell_type": "code",
      "metadata": {
        "id": "jJpn6aEUj5GK",
        "colab": {
          "base_uri": "https://localhost:8080/"
        },
        "outputId": "478d96be-c40e-452c-8245-20d491f3e311"
      },
      "source": [
        "import os\n",
        "import json\n",
        "import pandas as pd\n",
        "import seaborn as sns\n",
        "import requests\n",
        "import sys\n",
        "from tqdm import tqdm\n",
        "import numpy as np\n",
        "import time\n",
        "\n",
        "import dask\n",
        "from dask import dataframe as dd\n",
        "from fiona.crs import from_epsg\n",
        "import geopandas as gpd\n",
        "\n",
        "import pygeos\n",
        "gpd.options.use_pygeos = True\n",
        "\n",
        "import shapely.geometry as geom\n",
        "from shapely.geometry import Point\n",
        "from shapely.geometry import MultiPolygon\n",
        "import shapely.wkt"
      ],
      "execution_count": null,
      "outputs": [
        {
          "output_type": "stream",
          "name": "stderr",
          "text": [
            "/usr/local/lib/python3.7/dist-packages/geopandas/_compat.py:115: UserWarning: The Shapely GEOS version (3.10.2-CAPI-1.16.0) is incompatible with the GEOS version PyGEOS was compiled with (3.10.1-CAPI-1.16.0). Conversions between both will be slow.\n",
            "  shapely_geos_version, geos_capi_version_string\n"
          ]
        }
      ]
    },
    {
      "cell_type": "markdown",
      "source": [
        "change the following file path for your own google drive structure"
      ],
      "metadata": {
        "id": "IZDkI78ObH8G"
      }
    },
    {
      "cell_type": "code",
      "metadata": {
        "id": "O73zajOr9vB7"
      },
      "source": [
        "os.chdir(WORKDIR)"
      ],
      "execution_count": null,
      "outputs": []
    },
    {
      "cell_type": "markdown",
      "source": [
        "## identify trees for removal"
      ],
      "metadata": {
        "id": "HoI0c26iKT7t"
      }
    },
    {
      "cell_type": "markdown",
      "source": [
        ""
      ],
      "metadata": {
        "id": "3ayw5PmZbNeH"
      }
    },
    {
      "cell_type": "code",
      "source": [
        "# for each sight triangle, get trees located within\n",
        "triangles_gdf = gpd.read_file(triangles_fp)\n",
        "tree_trunks_gdf = gpd.read_file(tree_trunks_fp)"
      ],
      "metadata": {
        "id": "4_TTPcQwKpFi"
      },
      "execution_count": null,
      "outputs": []
    },
    {
      "cell_type": "code",
      "source": [
        "latham_trees_gdf = gpd.read_file('latham_trees.shp')\n",
        "marich_trees_gdf = gpd.read_file('marich_trees.shp')"
      ],
      "metadata": {
        "id": "L2oPTh7RivYf"
      },
      "execution_count": null,
      "outputs": []
    },
    {
      "cell_type": "code",
      "source": [
        "marich_trees_gdf['SPECIES'].isna().sum()"
      ],
      "metadata": {
        "colab": {
          "base_uri": "https://localhost:8080/"
        },
        "id": "4ZmgRoI5SX3J",
        "outputId": "d84da09e-83be-4612-dcfe-178c51898d0e"
      },
      "execution_count": null,
      "outputs": [
        {
          "output_type": "execute_result",
          "data": {
            "text/plain": [
              "26"
            ]
          },
          "metadata": {},
          "execution_count": 74
        }
      ]
    },
    {
      "cell_type": "code",
      "source": [
        "tree_trunks_gdf.shape"
      ],
      "metadata": {
        "colab": {
          "base_uri": "https://localhost:8080/"
        },
        "id": "BwP5AMtJSbe0",
        "outputId": "36d4ea35-742b-4b1d-d053-40388050f744"
      },
      "execution_count": null,
      "outputs": [
        {
          "output_type": "execute_result",
          "data": {
            "text/plain": [
              "(204, 27)"
            ]
          },
          "metadata": {},
          "execution_count": 51
        }
      ]
    },
    {
      "cell_type": "code",
      "source": [
        "tree_trunks_gdf.columns\n",
        "# tree_trunks_gdf['BOTNAME']"
      ],
      "metadata": {
        "colab": {
          "base_uri": "https://localhost:8080/"
        },
        "id": "QyKJ0y5NMHOZ",
        "outputId": "ca666105-a672-44f5-85d5-f4d4de76e0c8"
      },
      "execution_count": null,
      "outputs": [
        {
          "output_type": "execute_result",
          "data": {
            "text/plain": [
              "Index(['OBJECTID', 'FACILITYID', 'NAME', 'SPECIES', 'DIAMETER', 'HEIGHT',\n",
              "       'CANOPYSHP', 'WIRES', 'INSTALLDAT', 'FULLADDR', 'PROPSIDE', 'TREEGROUP',\n",
              "       'SPACETYPE', 'ASBLT', 'HERITAGE', 'BOTNAME', 'PLANTINGZO', 'OWNEDBY',\n",
              "       'MAINTBY', 'Subtype', 'Circumfere', 'Variety', 'created_us',\n",
              "       'created_da', 'last_edite', 'last_edi_1', 'geometry'],\n",
              "      dtype='object')"
            ]
          },
          "metadata": {},
          "execution_count": 55
        }
      ]
    },
    {
      "cell_type": "markdown",
      "source": [
        "cleaning the dataset"
      ],
      "metadata": {
        "id": "OhVJdHFabweD"
      }
    },
    {
      "cell_type": "code",
      "source": [
        "drop_cols = ['WIRES', 'PROPSIDE', 'TREEGROUP',\n",
        "             \"SPACETYPE\", \"BOTNAME\", \"PLANTINGZO\", \"Subtype\", \"Variety\",\n",
        "             \"created_us\", \"created_da\", \"last_edite\", \"last_edi_1\"]\n",
        "trees_gdf = tree_trunks_gdf.drop(columns=drop_cols)"
      ],
      "metadata": {
        "id": "7dBZ00UtLULJ"
      },
      "execution_count": null,
      "outputs": []
    },
    {
      "cell_type": "code",
      "source": [
        "trees_gdf = trees_gdf.to_crs(triangles_gdf.crs)"
      ],
      "metadata": {
        "id": "PRJjR_xn_wCo"
      },
      "execution_count": null,
      "outputs": []
    },
    {
      "cell_type": "code",
      "source": [
        "points = gpd.GeoSeries(trees_gdf['geometry'])\n",
        "regions = gpd.GeoSeries(triangles_gdf['geometry'])"
      ],
      "metadata": {
        "id": "zDz86_qE_yWi"
      },
      "execution_count": null,
      "outputs": []
    },
    {
      "cell_type": "markdown",
      "source": [
        "remove all trees located inside a sight triangle"
      ],
      "metadata": {
        "id": "HzaN05RJbz-c"
      }
    },
    {
      "cell_type": "code",
      "source": [
        "trees_gdf['to_remove'] = points.apply(lambda x: regions.contains(x).any())"
      ],
      "metadata": {
        "id": "2FgEvVJVAA-i"
      },
      "execution_count": null,
      "outputs": []
    },
    {
      "cell_type": "code",
      "source": [
        "compliant_trees_gdf = trees_gdf[trees_gdf.to_remove == False]\n",
        "compliant_trees_gdf.head()"
      ],
      "metadata": {
        "colab": {
          "base_uri": "https://localhost:8080/",
          "height": 444
        },
        "id": "0ofx0rmV_Kz2",
        "outputId": "f2d859a6-b1a8-4ddf-9e34-90714510c67f"
      },
      "execution_count": null,
      "outputs": [
        {
          "output_type": "execute_result",
          "data": {
            "text/plain": [
              "    OBJECTID FACILITYID           NAME              SPECIES  DIAMETER  HEIGHT  \\\n",
              "0    10983.0      10824        Camphor  Cinnamomum Camphora      14.0     0.0   \n",
              "4    11559.0      15015           None                 None       0.0     0.0   \n",
              "5    11535.0      15076           None                 None       0.0     0.0   \n",
              "6     5626.0      15829  Glossy Privet    Ligustrum Lucidum      12.0     0.0   \n",
              "10    5359.0      15835           None                 None       0.0     0.0   \n",
              "\n",
              "   CANOPYSHP  INSTALLDAT          FULLADDR ASBLT HERITAGE       OWNEDBY  \\\n",
              "0       None  2006-12-31  996 EL MONTE AVE  None       NO          None   \n",
              "4       None        None    1007 JUDSON DR  None       NO          None   \n",
              "5       None        None    1001 KAREN WAY  None       NO          None   \n",
              "6       None  2006-12-31    1905 LATHAM ST  None       NO  MountainView   \n",
              "10      None        None    1939 LATHAM ST  None       NO          None   \n",
              "\n",
              "         MAINTBY  Circumfere                     geometry  to_remove  \n",
              "0           None        44.0  POINT (-122.09599 37.39087)      False  \n",
              "4           None         0.0  POINT (-122.09884 37.39137)      False  \n",
              "5           None         0.0  POINT (-122.10212 37.39280)      False  \n",
              "6   MountainView        38.0  POINT (-122.09588 37.39408)      False  \n",
              "10          None         0.0  POINT (-122.09665 37.39480)      False  "
            ],
            "text/html": [
              "\n",
              "  <div id=\"df-c21f78fe-6c9f-497f-b67c-83f68bbdba50\">\n",
              "    <div class=\"colab-df-container\">\n",
              "      <div>\n",
              "<style scoped>\n",
              "    .dataframe tbody tr th:only-of-type {\n",
              "        vertical-align: middle;\n",
              "    }\n",
              "\n",
              "    .dataframe tbody tr th {\n",
              "        vertical-align: top;\n",
              "    }\n",
              "\n",
              "    .dataframe thead th {\n",
              "        text-align: right;\n",
              "    }\n",
              "</style>\n",
              "<table border=\"1\" class=\"dataframe\">\n",
              "  <thead>\n",
              "    <tr style=\"text-align: right;\">\n",
              "      <th></th>\n",
              "      <th>OBJECTID</th>\n",
              "      <th>FACILITYID</th>\n",
              "      <th>NAME</th>\n",
              "      <th>SPECIES</th>\n",
              "      <th>DIAMETER</th>\n",
              "      <th>HEIGHT</th>\n",
              "      <th>CANOPYSHP</th>\n",
              "      <th>INSTALLDAT</th>\n",
              "      <th>FULLADDR</th>\n",
              "      <th>ASBLT</th>\n",
              "      <th>HERITAGE</th>\n",
              "      <th>OWNEDBY</th>\n",
              "      <th>MAINTBY</th>\n",
              "      <th>Circumfere</th>\n",
              "      <th>geometry</th>\n",
              "      <th>to_remove</th>\n",
              "    </tr>\n",
              "  </thead>\n",
              "  <tbody>\n",
              "    <tr>\n",
              "      <th>0</th>\n",
              "      <td>10983.0</td>\n",
              "      <td>10824</td>\n",
              "      <td>Camphor</td>\n",
              "      <td>Cinnamomum Camphora</td>\n",
              "      <td>14.0</td>\n",
              "      <td>0.0</td>\n",
              "      <td>None</td>\n",
              "      <td>2006-12-31</td>\n",
              "      <td>996 EL MONTE AVE</td>\n",
              "      <td>None</td>\n",
              "      <td>NO</td>\n",
              "      <td>None</td>\n",
              "      <td>None</td>\n",
              "      <td>44.0</td>\n",
              "      <td>POINT (-122.09599 37.39087)</td>\n",
              "      <td>False</td>\n",
              "    </tr>\n",
              "    <tr>\n",
              "      <th>4</th>\n",
              "      <td>11559.0</td>\n",
              "      <td>15015</td>\n",
              "      <td>None</td>\n",
              "      <td>None</td>\n",
              "      <td>0.0</td>\n",
              "      <td>0.0</td>\n",
              "      <td>None</td>\n",
              "      <td>None</td>\n",
              "      <td>1007 JUDSON DR</td>\n",
              "      <td>None</td>\n",
              "      <td>NO</td>\n",
              "      <td>None</td>\n",
              "      <td>None</td>\n",
              "      <td>0.0</td>\n",
              "      <td>POINT (-122.09884 37.39137)</td>\n",
              "      <td>False</td>\n",
              "    </tr>\n",
              "    <tr>\n",
              "      <th>5</th>\n",
              "      <td>11535.0</td>\n",
              "      <td>15076</td>\n",
              "      <td>None</td>\n",
              "      <td>None</td>\n",
              "      <td>0.0</td>\n",
              "      <td>0.0</td>\n",
              "      <td>None</td>\n",
              "      <td>None</td>\n",
              "      <td>1001 KAREN WAY</td>\n",
              "      <td>None</td>\n",
              "      <td>NO</td>\n",
              "      <td>None</td>\n",
              "      <td>None</td>\n",
              "      <td>0.0</td>\n",
              "      <td>POINT (-122.10212 37.39280)</td>\n",
              "      <td>False</td>\n",
              "    </tr>\n",
              "    <tr>\n",
              "      <th>6</th>\n",
              "      <td>5626.0</td>\n",
              "      <td>15829</td>\n",
              "      <td>Glossy Privet</td>\n",
              "      <td>Ligustrum Lucidum</td>\n",
              "      <td>12.0</td>\n",
              "      <td>0.0</td>\n",
              "      <td>None</td>\n",
              "      <td>2006-12-31</td>\n",
              "      <td>1905 LATHAM ST</td>\n",
              "      <td>None</td>\n",
              "      <td>NO</td>\n",
              "      <td>MountainView</td>\n",
              "      <td>MountainView</td>\n",
              "      <td>38.0</td>\n",
              "      <td>POINT (-122.09588 37.39408)</td>\n",
              "      <td>False</td>\n",
              "    </tr>\n",
              "    <tr>\n",
              "      <th>10</th>\n",
              "      <td>5359.0</td>\n",
              "      <td>15835</td>\n",
              "      <td>None</td>\n",
              "      <td>None</td>\n",
              "      <td>0.0</td>\n",
              "      <td>0.0</td>\n",
              "      <td>None</td>\n",
              "      <td>None</td>\n",
              "      <td>1939 LATHAM ST</td>\n",
              "      <td>None</td>\n",
              "      <td>NO</td>\n",
              "      <td>None</td>\n",
              "      <td>None</td>\n",
              "      <td>0.0</td>\n",
              "      <td>POINT (-122.09665 37.39480)</td>\n",
              "      <td>False</td>\n",
              "    </tr>\n",
              "  </tbody>\n",
              "</table>\n",
              "</div>\n",
              "      <button class=\"colab-df-convert\" onclick=\"convertToInteractive('df-c21f78fe-6c9f-497f-b67c-83f68bbdba50')\"\n",
              "              title=\"Convert this dataframe to an interactive table.\"\n",
              "              style=\"display:none;\">\n",
              "        \n",
              "  <svg xmlns=\"http://www.w3.org/2000/svg\" height=\"24px\"viewBox=\"0 0 24 24\"\n",
              "       width=\"24px\">\n",
              "    <path d=\"M0 0h24v24H0V0z\" fill=\"none\"/>\n",
              "    <path d=\"M18.56 5.44l.94 2.06.94-2.06 2.06-.94-2.06-.94-.94-2.06-.94 2.06-2.06.94zm-11 1L8.5 8.5l.94-2.06 2.06-.94-2.06-.94L8.5 2.5l-.94 2.06-2.06.94zm10 10l.94 2.06.94-2.06 2.06-.94-2.06-.94-.94-2.06-.94 2.06-2.06.94z\"/><path d=\"M17.41 7.96l-1.37-1.37c-.4-.4-.92-.59-1.43-.59-.52 0-1.04.2-1.43.59L10.3 9.45l-7.72 7.72c-.78.78-.78 2.05 0 2.83L4 21.41c.39.39.9.59 1.41.59.51 0 1.02-.2 1.41-.59l7.78-7.78 2.81-2.81c.8-.78.8-2.07 0-2.86zM5.41 20L4 18.59l7.72-7.72 1.47 1.35L5.41 20z\"/>\n",
              "  </svg>\n",
              "      </button>\n",
              "      \n",
              "  <style>\n",
              "    .colab-df-container {\n",
              "      display:flex;\n",
              "      flex-wrap:wrap;\n",
              "      gap: 12px;\n",
              "    }\n",
              "\n",
              "    .colab-df-convert {\n",
              "      background-color: #E8F0FE;\n",
              "      border: none;\n",
              "      border-radius: 50%;\n",
              "      cursor: pointer;\n",
              "      display: none;\n",
              "      fill: #1967D2;\n",
              "      height: 32px;\n",
              "      padding: 0 0 0 0;\n",
              "      width: 32px;\n",
              "    }\n",
              "\n",
              "    .colab-df-convert:hover {\n",
              "      background-color: #E2EBFA;\n",
              "      box-shadow: 0px 1px 2px rgba(60, 64, 67, 0.3), 0px 1px 3px 1px rgba(60, 64, 67, 0.15);\n",
              "      fill: #174EA6;\n",
              "    }\n",
              "\n",
              "    [theme=dark] .colab-df-convert {\n",
              "      background-color: #3B4455;\n",
              "      fill: #D2E3FC;\n",
              "    }\n",
              "\n",
              "    [theme=dark] .colab-df-convert:hover {\n",
              "      background-color: #434B5C;\n",
              "      box-shadow: 0px 1px 3px 1px rgba(0, 0, 0, 0.15);\n",
              "      filter: drop-shadow(0px 1px 2px rgba(0, 0, 0, 0.3));\n",
              "      fill: #FFFFFF;\n",
              "    }\n",
              "  </style>\n",
              "\n",
              "      <script>\n",
              "        const buttonEl =\n",
              "          document.querySelector('#df-c21f78fe-6c9f-497f-b67c-83f68bbdba50 button.colab-df-convert');\n",
              "        buttonEl.style.display =\n",
              "          google.colab.kernel.accessAllowed ? 'block' : 'none';\n",
              "\n",
              "        async function convertToInteractive(key) {\n",
              "          const element = document.querySelector('#df-c21f78fe-6c9f-497f-b67c-83f68bbdba50');\n",
              "          const dataTable =\n",
              "            await google.colab.kernel.invokeFunction('convertToInteractive',\n",
              "                                                     [key], {});\n",
              "          if (!dataTable) return;\n",
              "\n",
              "          const docLinkHtml = 'Like what you see? Visit the ' +\n",
              "            '<a target=\"_blank\" href=https://colab.research.google.com/notebooks/data_table.ipynb>data table notebook</a>'\n",
              "            + ' to learn more about interactive tables.';\n",
              "          element.innerHTML = '';\n",
              "          dataTable['output_type'] = 'display_data';\n",
              "          await google.colab.output.renderOutput(dataTable, element);\n",
              "          const docLink = document.createElement('div');\n",
              "          docLink.innerHTML = docLinkHtml;\n",
              "          element.appendChild(docLink);\n",
              "        }\n",
              "      </script>\n",
              "    </div>\n",
              "  </div>\n",
              "  "
            ]
          },
          "metadata": {},
          "execution_count": 60
        }
      ]
    },
    {
      "cell_type": "code",
      "source": [
        "noncompliant_trees_gdf = trees_gdf[trees_gdf.to_remove == True]\n",
        "noncompliant_trees_gdf.head()"
      ],
      "metadata": {
        "colab": {
          "base_uri": "https://localhost:8080/",
          "height": 461
        },
        "id": "8DhEbct5_PZY",
        "outputId": "854f775d-5e12-4981-f040-04f5208e4f0a"
      },
      "execution_count": null,
      "outputs": [
        {
          "output_type": "execute_result",
          "data": {
            "text/plain": [
              "   OBJECTID FACILITYID                     NAME              SPECIES  \\\n",
              "1    9452.0       1269              Modesto Ash    Fraxinus Velutina   \n",
              "2    9359.0       1270                     None                 None   \n",
              "3   11723.0      15013                  Camphor  Cinnamomum Camphora   \n",
              "7    5358.0      15830                     None                 None   \n",
              "8    5627.0      15831  Canary Island Date Palm  Phoenix Canariensis   \n",
              "\n",
              "   DIAMETER  HEIGHT CANOPYSHP  INSTALLDAT             FULLADDR ASBLT HERITAGE  \\\n",
              "1      25.0     0.0      None  2006-12-31  1008 BLACKFIELD WAY  None      YES   \n",
              "2       0.0     0.0      None        None  1008 BLACKFIELD WAY  None       NO   \n",
              "3      19.0     0.0      None  2006-12-31       1006 JUDSON DR  None      YES   \n",
              "7       0.0     0.0      None        None       1913 LATHAM ST  None       NO   \n",
              "8      33.0     0.0      None  2006-12-31       1920 LATHAM ST  None      YES   \n",
              "\n",
              "        OWNEDBY       MAINTBY  Circumfere                     geometry  \\\n",
              "1  MountainView  MountainView        79.0  POINT (-122.09856 37.39117)   \n",
              "2          None          None         0.0  POINT (-122.09859 37.39126)   \n",
              "3  MountainView  MountainView        60.0  POINT (-122.09922 37.39153)   \n",
              "7          None          None         0.0  POINT (-122.09633 37.39457)   \n",
              "8  MountainView  MountainView       104.0  POINT (-122.09619 37.39467)   \n",
              "\n",
              "   to_remove  \n",
              "1       True  \n",
              "2       True  \n",
              "3       True  \n",
              "7       True  \n",
              "8       True  "
            ],
            "text/html": [
              "\n",
              "  <div id=\"df-23291275-609a-46b5-9ea1-50bcc44e4ce7\">\n",
              "    <div class=\"colab-df-container\">\n",
              "      <div>\n",
              "<style scoped>\n",
              "    .dataframe tbody tr th:only-of-type {\n",
              "        vertical-align: middle;\n",
              "    }\n",
              "\n",
              "    .dataframe tbody tr th {\n",
              "        vertical-align: top;\n",
              "    }\n",
              "\n",
              "    .dataframe thead th {\n",
              "        text-align: right;\n",
              "    }\n",
              "</style>\n",
              "<table border=\"1\" class=\"dataframe\">\n",
              "  <thead>\n",
              "    <tr style=\"text-align: right;\">\n",
              "      <th></th>\n",
              "      <th>OBJECTID</th>\n",
              "      <th>FACILITYID</th>\n",
              "      <th>NAME</th>\n",
              "      <th>SPECIES</th>\n",
              "      <th>DIAMETER</th>\n",
              "      <th>HEIGHT</th>\n",
              "      <th>CANOPYSHP</th>\n",
              "      <th>INSTALLDAT</th>\n",
              "      <th>FULLADDR</th>\n",
              "      <th>ASBLT</th>\n",
              "      <th>HERITAGE</th>\n",
              "      <th>OWNEDBY</th>\n",
              "      <th>MAINTBY</th>\n",
              "      <th>Circumfere</th>\n",
              "      <th>geometry</th>\n",
              "      <th>to_remove</th>\n",
              "    </tr>\n",
              "  </thead>\n",
              "  <tbody>\n",
              "    <tr>\n",
              "      <th>1</th>\n",
              "      <td>9452.0</td>\n",
              "      <td>1269</td>\n",
              "      <td>Modesto Ash</td>\n",
              "      <td>Fraxinus Velutina</td>\n",
              "      <td>25.0</td>\n",
              "      <td>0.0</td>\n",
              "      <td>None</td>\n",
              "      <td>2006-12-31</td>\n",
              "      <td>1008 BLACKFIELD WAY</td>\n",
              "      <td>None</td>\n",
              "      <td>YES</td>\n",
              "      <td>MountainView</td>\n",
              "      <td>MountainView</td>\n",
              "      <td>79.0</td>\n",
              "      <td>POINT (-122.09856 37.39117)</td>\n",
              "      <td>True</td>\n",
              "    </tr>\n",
              "    <tr>\n",
              "      <th>2</th>\n",
              "      <td>9359.0</td>\n",
              "      <td>1270</td>\n",
              "      <td>None</td>\n",
              "      <td>None</td>\n",
              "      <td>0.0</td>\n",
              "      <td>0.0</td>\n",
              "      <td>None</td>\n",
              "      <td>None</td>\n",
              "      <td>1008 BLACKFIELD WAY</td>\n",
              "      <td>None</td>\n",
              "      <td>NO</td>\n",
              "      <td>None</td>\n",
              "      <td>None</td>\n",
              "      <td>0.0</td>\n",
              "      <td>POINT (-122.09859 37.39126)</td>\n",
              "      <td>True</td>\n",
              "    </tr>\n",
              "    <tr>\n",
              "      <th>3</th>\n",
              "      <td>11723.0</td>\n",
              "      <td>15013</td>\n",
              "      <td>Camphor</td>\n",
              "      <td>Cinnamomum Camphora</td>\n",
              "      <td>19.0</td>\n",
              "      <td>0.0</td>\n",
              "      <td>None</td>\n",
              "      <td>2006-12-31</td>\n",
              "      <td>1006 JUDSON DR</td>\n",
              "      <td>None</td>\n",
              "      <td>YES</td>\n",
              "      <td>MountainView</td>\n",
              "      <td>MountainView</td>\n",
              "      <td>60.0</td>\n",
              "      <td>POINT (-122.09922 37.39153)</td>\n",
              "      <td>True</td>\n",
              "    </tr>\n",
              "    <tr>\n",
              "      <th>7</th>\n",
              "      <td>5358.0</td>\n",
              "      <td>15830</td>\n",
              "      <td>None</td>\n",
              "      <td>None</td>\n",
              "      <td>0.0</td>\n",
              "      <td>0.0</td>\n",
              "      <td>None</td>\n",
              "      <td>None</td>\n",
              "      <td>1913 LATHAM ST</td>\n",
              "      <td>None</td>\n",
              "      <td>NO</td>\n",
              "      <td>None</td>\n",
              "      <td>None</td>\n",
              "      <td>0.0</td>\n",
              "      <td>POINT (-122.09633 37.39457)</td>\n",
              "      <td>True</td>\n",
              "    </tr>\n",
              "    <tr>\n",
              "      <th>8</th>\n",
              "      <td>5627.0</td>\n",
              "      <td>15831</td>\n",
              "      <td>Canary Island Date Palm</td>\n",
              "      <td>Phoenix Canariensis</td>\n",
              "      <td>33.0</td>\n",
              "      <td>0.0</td>\n",
              "      <td>None</td>\n",
              "      <td>2006-12-31</td>\n",
              "      <td>1920 LATHAM ST</td>\n",
              "      <td>None</td>\n",
              "      <td>YES</td>\n",
              "      <td>MountainView</td>\n",
              "      <td>MountainView</td>\n",
              "      <td>104.0</td>\n",
              "      <td>POINT (-122.09619 37.39467)</td>\n",
              "      <td>True</td>\n",
              "    </tr>\n",
              "  </tbody>\n",
              "</table>\n",
              "</div>\n",
              "      <button class=\"colab-df-convert\" onclick=\"convertToInteractive('df-23291275-609a-46b5-9ea1-50bcc44e4ce7')\"\n",
              "              title=\"Convert this dataframe to an interactive table.\"\n",
              "              style=\"display:none;\">\n",
              "        \n",
              "  <svg xmlns=\"http://www.w3.org/2000/svg\" height=\"24px\"viewBox=\"0 0 24 24\"\n",
              "       width=\"24px\">\n",
              "    <path d=\"M0 0h24v24H0V0z\" fill=\"none\"/>\n",
              "    <path d=\"M18.56 5.44l.94 2.06.94-2.06 2.06-.94-2.06-.94-.94-2.06-.94 2.06-2.06.94zm-11 1L8.5 8.5l.94-2.06 2.06-.94-2.06-.94L8.5 2.5l-.94 2.06-2.06.94zm10 10l.94 2.06.94-2.06 2.06-.94-2.06-.94-.94-2.06-.94 2.06-2.06.94z\"/><path d=\"M17.41 7.96l-1.37-1.37c-.4-.4-.92-.59-1.43-.59-.52 0-1.04.2-1.43.59L10.3 9.45l-7.72 7.72c-.78.78-.78 2.05 0 2.83L4 21.41c.39.39.9.59 1.41.59.51 0 1.02-.2 1.41-.59l7.78-7.78 2.81-2.81c.8-.78.8-2.07 0-2.86zM5.41 20L4 18.59l7.72-7.72 1.47 1.35L5.41 20z\"/>\n",
              "  </svg>\n",
              "      </button>\n",
              "      \n",
              "  <style>\n",
              "    .colab-df-container {\n",
              "      display:flex;\n",
              "      flex-wrap:wrap;\n",
              "      gap: 12px;\n",
              "    }\n",
              "\n",
              "    .colab-df-convert {\n",
              "      background-color: #E8F0FE;\n",
              "      border: none;\n",
              "      border-radius: 50%;\n",
              "      cursor: pointer;\n",
              "      display: none;\n",
              "      fill: #1967D2;\n",
              "      height: 32px;\n",
              "      padding: 0 0 0 0;\n",
              "      width: 32px;\n",
              "    }\n",
              "\n",
              "    .colab-df-convert:hover {\n",
              "      background-color: #E2EBFA;\n",
              "      box-shadow: 0px 1px 2px rgba(60, 64, 67, 0.3), 0px 1px 3px 1px rgba(60, 64, 67, 0.15);\n",
              "      fill: #174EA6;\n",
              "    }\n",
              "\n",
              "    [theme=dark] .colab-df-convert {\n",
              "      background-color: #3B4455;\n",
              "      fill: #D2E3FC;\n",
              "    }\n",
              "\n",
              "    [theme=dark] .colab-df-convert:hover {\n",
              "      background-color: #434B5C;\n",
              "      box-shadow: 0px 1px 3px 1px rgba(0, 0, 0, 0.15);\n",
              "      filter: drop-shadow(0px 1px 2px rgba(0, 0, 0, 0.3));\n",
              "      fill: #FFFFFF;\n",
              "    }\n",
              "  </style>\n",
              "\n",
              "      <script>\n",
              "        const buttonEl =\n",
              "          document.querySelector('#df-23291275-609a-46b5-9ea1-50bcc44e4ce7 button.colab-df-convert');\n",
              "        buttonEl.style.display =\n",
              "          google.colab.kernel.accessAllowed ? 'block' : 'none';\n",
              "\n",
              "        async function convertToInteractive(key) {\n",
              "          const element = document.querySelector('#df-23291275-609a-46b5-9ea1-50bcc44e4ce7');\n",
              "          const dataTable =\n",
              "            await google.colab.kernel.invokeFunction('convertToInteractive',\n",
              "                                                     [key], {});\n",
              "          if (!dataTable) return;\n",
              "\n",
              "          const docLinkHtml = 'Like what you see? Visit the ' +\n",
              "            '<a target=\"_blank\" href=https://colab.research.google.com/notebooks/data_table.ipynb>data table notebook</a>'\n",
              "            + ' to learn more about interactive tables.';\n",
              "          element.innerHTML = '';\n",
              "          dataTable['output_type'] = 'display_data';\n",
              "          await google.colab.output.renderOutput(dataTable, element);\n",
              "          const docLink = document.createElement('div');\n",
              "          docLink.innerHTML = docLinkHtml;\n",
              "          element.appendChild(docLink);\n",
              "        }\n",
              "      </script>\n",
              "    </div>\n",
              "  </div>\n",
              "  "
            ]
          },
          "metadata": {},
          "execution_count": 61
        }
      ]
    },
    {
      "cell_type": "markdown",
      "source": [
        "## save tagged tree points as .shp"
      ],
      "metadata": {
        "id": "KLU7TXC7C695"
      }
    },
    {
      "cell_type": "code",
      "source": [
        "compliant_trees_gdf.to_file(compliant_trees_outfp)\n",
        "noncompliant_trees_gdf.to_file(noncompliant_trees_outfp)"
      ],
      "metadata": {
        "id": "K2WYi4XYCzx1"
      },
      "execution_count": null,
      "outputs": []
    },
    {
      "cell_type": "markdown",
      "metadata": {
        "id": "3GNh57Qd7F36"
      },
      "source": [
        "## load tagged tree and canopy dataset into mem"
      ]
    },
    {
      "cell_type": "markdown",
      "source": [
        "run this block if you already generated the compliant and noncompliant tree .shp files"
      ],
      "metadata": {
        "id": "7Lysow-ZcKZ4"
      }
    },
    {
      "cell_type": "code",
      "metadata": {
        "id": "0jMatvLT-Wb5"
      },
      "source": [
        "noncompliant_trees_gdf = gpd.read_file(noncompliant_trees_outfp)\n",
        "_PROJECT_CRS = noncompliant_trees_gdf.crs"
      ],
      "execution_count": null,
      "outputs": []
    },
    {
      "cell_type": "code",
      "source": [
        "canopy_gdf = gpd.read_file('Tree_Canopy.shp')\n",
        "canopy_gdf = canopy_gdf.to_crs(\"EPSG:6933\") # equal area projection"
      ],
      "metadata": {
        "id": "qbg6_LbZDPWP"
      },
      "execution_count": null,
      "outputs": []
    },
    {
      "cell_type": "code",
      "source": [
        "noncompliant_trees_gdf['SPECIES'].unique()"
      ],
      "metadata": {
        "colab": {
          "base_uri": "https://localhost:8080/"
        },
        "id": "AADvNvB2IFtr",
        "outputId": "dc3ef85e-b507-4714-b06e-54489c66a139"
      },
      "execution_count": null,
      "outputs": [
        {
          "output_type": "execute_result",
          "data": {
            "text/plain": [
              "array(['Fraxinus Velutina', None, 'Cinnamomum Camphora',\n",
              "       'Phoenix Canariensis', 'Pittosporum Eugenioides',\n",
              "       'Magnolia Grandiflora', 'Acer Platanoides',\n",
              "       'Platanus X Acerifolia', 'Acer Saccharinum',\n",
              "       'Arecastrum Romanzoffianum', 'Washingtonia Filifera',\n",
              "       'Juniperus Chinensis', 'Acer Rubrum', 'Lagerstroemia Indica',\n",
              "       'Pyrus Calleryana', \"Fraxinus Holo. 'Moraine'\",\n",
              "       'Pistacia Chinensis', 'Prunus Caroliniana', 'Prunus Cerasifera',\n",
              "       'Jacaranda Mimosifolia', 'Fraxinus Augustifola'], dtype=object)"
            ]
          },
          "metadata": {},
          "execution_count": 9
        }
      ]
    },
    {
      "cell_type": "code",
      "source": [
        "import seaborn as sns\n",
        "import matplotlib.pylab as plt\n",
        "plt.rcParams[\"figure.figsize\"] = [10, 6]\n",
        "plt.rcParams[\"figure.autolayout\"] = True"
      ],
      "metadata": {
        "id": "kXwcJKimIOHd"
      },
      "execution_count": null,
      "outputs": []
    },
    {
      "cell_type": "code",
      "source": [
        "noncompliant_trees_gdf = noncompliant_trees_gdf.sort_values('SPECIES')\n",
        "latham_trees_gdf = latham_trees_gdf.sort_values('SPECIES')\n",
        "marich_trees_gdf = marich_trees_gdf.sort_values('SPECIES')"
      ],
      "metadata": {
        "id": "VbWo4bQHlynY"
      },
      "execution_count": null,
      "outputs": []
    },
    {
      "cell_type": "markdown",
      "source": [
        "quick EDA to visualize the data"
      ],
      "metadata": {
        "id": "RBchw0SrcSG-"
      }
    },
    {
      "cell_type": "code",
      "source": [
        "histplot = sns.histplot(latham_trees_gdf['INSTALLDAT'])\n",
        "plt.xticks(rotation=90)\n",
        "plt.title(\"Site #2 Tree Species\")"
      ],
      "metadata": {
        "colab": {
          "base_uri": "https://localhost:8080/",
          "height": 459
        },
        "id": "-fk9yqJ1IkYx",
        "outputId": "bb2efda7-3c29-4584-bcbc-fee235a90db0"
      },
      "execution_count": null,
      "outputs": [
        {
          "output_type": "execute_result",
          "data": {
            "text/plain": [
              "Text(0.5, 1.0, 'Site #2 Tree Species')"
            ]
          },
          "metadata": {},
          "execution_count": 97
        },
        {
          "output_type": "display_data",
          "data": {
            "text/plain": [
              "<Figure size 720x432 with 1 Axes>"
            ],
            "image/png": "[encoded data removed]"
          },
          "metadata": {
            "needs_background": "light"
          }
        }
      ]
    },
    {
      "cell_type": "code",
      "source": [
        "#noncompliant_trees_gdf['INSTALLDAT'] = pd.to_datetime(noncompliant_trees_gdf['INSTALLDAT'])\n",
        "noncompliant_trees_gdf['YEAR'] = pd.DatetimeIndex(noncompliant_trees_gdf['INSTALLDAT']).year\n",
        "noncompliant_trees_gdf['AGE'] = 2022 - noncompliant_trees_gdf['YEAR']"
      ],
      "metadata": {
        "id": "jkdY7rekJe_U"
      },
      "execution_count": null,
      "outputs": []
    },
    {
      "cell_type": "code",
      "source": [
        "latham_trees_gdf['YEAR'] = pd.DatetimeIndex(latham_trees_gdf['INSTALLDAT']).year\n",
        "latham_trees_gdf['AGE'] = 2022 - latham_trees_gdf['YEAR']\n",
        "marich_trees_gdf['YEAR'] = pd.DatetimeIndex(marich_trees_gdf['INSTALLDAT']).year\n",
        "marich_trees_gdf['AGE'] = 2022 - marich_trees_gdf['YEAR']"
      ],
      "metadata": {
        "id": "jMpYrCd2KlJm"
      },
      "execution_count": null,
      "outputs": []
    },
    {
      "cell_type": "code",
      "source": [
        "plt.rcParams[\"figure.figsize\"] = (8,4)\n",
        "sns.boxplot(noncompliant_trees_gdf['AGE'])\n",
        "plt.title(\"Noncompliant Tree Ages\")"
      ],
      "metadata": {
        "colab": {
          "base_uri": "https://localhost:8080/",
          "height": 372
        },
        "id": "LsSwkRu4LUHj",
        "outputId": "44aa5b82-3abd-4e97-b2d6-d6659af5ce90"
      },
      "execution_count": null,
      "outputs": [
        {
          "output_type": "stream",
          "name": "stderr",
          "text": [
            "/usr/local/lib/python3.7/dist-packages/seaborn/_decorators.py:43: FutureWarning: Pass the following variable as a keyword arg: x. From version 0.12, the only valid positional argument will be `data`, and passing other arguments without an explicit keyword will result in an error or misinterpretation.\n",
            "  FutureWarning\n"
          ]
        },
        {
          "output_type": "execute_result",
          "data": {
            "text/plain": [
              "Text(0.5, 1.0, 'Noncompliant Tree Ages')"
            ]
          },
          "metadata": {},
          "execution_count": 102
        },
        {
          "output_type": "display_data",
          "data": {
            "text/plain": [
              "<Figure size 576x288 with 1 Axes>"
            ],
            "image/png": "[encoded data removed]"
          },
          "metadata": {
            "needs_background": "light"
          }
        }
      ]
    },
    {
      "cell_type": "code",
      "source": [
        "noncompliant_trees_gdf['AGE'].describe()"
      ],
      "metadata": {
        "colab": {
          "base_uri": "https://localhost:8080/"
        },
        "id": "myDF-NCuLZ4I",
        "outputId": "a24a94ac-c5da-4ed9-f1db-88a965111f54"
      },
      "execution_count": null,
      "outputs": [
        {
          "output_type": "execute_result",
          "data": {
            "text/plain": [
              "count    39.000000\n",
              "mean     13.717949\n",
              "std       3.892967\n",
              "min       4.000000\n",
              "25%      11.500000\n",
              "50%      16.000000\n",
              "75%      16.000000\n",
              "max      18.000000\n",
              "Name: AGE, dtype: float64"
            ]
          },
          "metadata": {},
          "execution_count": 15
        }
      ]
    },
    {
      "cell_type": "markdown",
      "source": [
        "## remove canopy from noncompliant trees"
      ],
      "metadata": {
        "id": "rqHpcpEfFXrD"
      }
    },
    {
      "cell_type": "markdown",
      "source": [
        "TODO use tree canopy modelling to calculate canopy of each tree based on species, diameter, and age.\n",
        "currently just using conservative estimate of 90 sq ft canopy each tree based on age of ~10 years. radius of 11ft = 3.3m"
      ],
      "metadata": {
        "id": "Z8UPNoXpQ5na"
      }
    },
    {
      "cell_type": "code",
      "source": [
        "# change to equal-area projection epsg=6933"
      ],
      "metadata": {
        "id": "ZtwYfHRIVrxn"
      },
      "execution_count": null,
      "outputs": []
    },
    {
      "cell_type": "code",
      "source": [
        "noncompliant_trees_gdf = noncompliant_trees_gdf.to_crs(\"EPSG:6933\")"
      ],
      "metadata": {
        "id": "VNkp9fOEVfk6"
      },
      "execution_count": null,
      "outputs": []
    },
    {
      "cell_type": "code",
      "source": [
        "noncompliant_trees_gdf.crs.axis_info"
      ],
      "metadata": {
        "colab": {
          "base_uri": "https://localhost:8080/"
        },
        "id": "YKizkcvQV-N4",
        "outputId": "dfb9b63c-faa2-4b45-c3b6-ff4818d672c1"
      },
      "execution_count": null,
      "outputs": [
        {
          "output_type": "execute_result",
          "data": {
            "text/plain": [
              "[Axis(name=Easting, abbrev=X, direction=east, unit_auth_code=EPSG, unit_code=9001, unit_name=metre),\n",
              " Axis(name=Northing, abbrev=Y, direction=north, unit_auth_code=EPSG, unit_code=9001, unit_name=metre)]"
            ]
          },
          "metadata": {},
          "execution_count": 39
        }
      ]
    },
    {
      "cell_type": "code",
      "source": [
        "# make circle of 3.3m around each tree trunk\n",
        "circles_gdf = noncompliant_trees_gdf.copy(deep=False)\n",
        "circles_gdf['geometry'] = noncompliant_trees_gdf['geometry'].buffer(3.3)"
      ],
      "metadata": {
        "id": "-SSqqX3IFbn5"
      },
      "execution_count": null,
      "outputs": []
    },
    {
      "cell_type": "code",
      "source": [
        "import importlib\n",
        "importlib.reload(pygeos)\n",
        "import pygeos"
      ],
      "metadata": {
        "id": "gSOGKI2lTnfE"
      },
      "execution_count": null,
      "outputs": []
    },
    {
      "cell_type": "code",
      "source": [
        "new_canopy_gdf = canopy_gdf.overlay(circles_gdf, how='difference')"
      ],
      "metadata": {
        "id": "Q8GXgDjsSHJp"
      },
      "execution_count": null,
      "outputs": []
    },
    {
      "cell_type": "code",
      "source": [
        "circles_gdf.plot()"
      ],
      "metadata": {
        "colab": {
          "base_uri": "https://localhost:8080/",
          "height": 315
        },
        "id": "ROc3N-LCWOvM",
        "outputId": "70ffea66-a224-4433-ad66-ba064ae2e624"
      },
      "execution_count": null,
      "outputs": [
        {
          "output_type": "execute_result",
          "data": {
            "text/plain": [
              "<matplotlib.axes._subplots.AxesSubplot at 0x7ff46c0ffdd0>"
            ]
          },
          "metadata": {},
          "execution_count": 45
        },
        {
          "output_type": "display_data",
          "data": {
            "text/plain": [
              "<Figure size 576x288 with 1 Axes>"
            ],
            "image/png": "[encoded data removed]"
          },
          "metadata": {
            "needs_background": "light"
          }
        }
      ]
    },
    {
      "cell_type": "code",
      "source": [
        "new_canopy_gdf.plot()"
      ],
      "metadata": {
        "colab": {
          "base_uri": "https://localhost:8080/",
          "height": 315
        },
        "id": "jxBkks6WVDIy",
        "outputId": "d796e35b-80fa-4dc5-8d6d-b77dc5b42349"
      },
      "execution_count": null,
      "outputs": [
        {
          "output_type": "execute_result",
          "data": {
            "text/plain": [
              "<matplotlib.axes._subplots.AxesSubplot at 0x7ff4690f6e50>"
            ]
          },
          "metadata": {},
          "execution_count": 44
        },
        {
          "output_type": "display_data",
          "data": {
            "text/plain": [
              "<Figure size 576x288 with 1 Axes>"
            ],
            "image/png": "[encoded data removed]"
          },
          "metadata": {
            "needs_background": "light"
          }
        }
      ]
    },
    {
      "cell_type": "code",
      "source": [
        "new_canopy_gdf = new_canopy_gdf.to_crs(\"EPSG:4326\")"
      ],
      "metadata": {
        "id": "PSM9fWfaU89t"
      },
      "execution_count": null,
      "outputs": []
    },
    {
      "cell_type": "markdown",
      "source": [
        "## save new canopy as .shp"
      ],
      "metadata": {
        "id": "gh7XvYfpWZXz"
      }
    },
    {
      "cell_type": "code",
      "source": [
        "new_canopy_gdf.to_file(new_canopy_outfp)"
      ],
      "metadata": {
        "id": "RcA1dyKlWbsk"
      },
      "execution_count": null,
      "outputs": []
    },
    {
      "cell_type": "markdown",
      "source": [
        "## increase canopy cover by 5%"
      ],
      "metadata": {
        "id": "JDtxEJ_S5-Mc"
      }
    },
    {
      "cell_type": "code",
      "source": [
        "# calculate current canopy coverage\n",
        "areas = canopy_gdf['geometry'].area"
      ],
      "metadata": {
        "id": "9U3fHVeT6Azm"
      },
      "execution_count": null,
      "outputs": []
    },
    {
      "cell_type": "code",
      "source": [
        "total_area = areas.sum(axis=0)\n",
        "print(total_area)"
      ],
      "metadata": {
        "colab": {
          "base_uri": "https://localhost:8080/"
        },
        "id": "tpqWo6sy6zlw",
        "outputId": "16b9bdac-74b1-4c9f-ab50-4a187a950b0e"
      },
      "execution_count": null,
      "outputs": [
        {
          "output_type": "stream",
          "name": "stdout",
          "text": [
            "32995.63481605707\n"
          ]
        }
      ]
    },
    {
      "cell_type": "code",
      "source": [
        "target_area = total_area * 1.05\n",
        "print(target_area)"
      ],
      "metadata": {
        "colab": {
          "base_uri": "https://localhost:8080/"
        },
        "id": "5p05tIdm7kFV",
        "outputId": "d7b120b3-a69d-4f45-f423-ae2168b9c50d"
      },
      "execution_count": null,
      "outputs": [
        {
          "output_type": "stream",
          "name": "stdout",
          "text": [
            "34645.41655685993\n"
          ]
        }
      ]
    },
    {
      "cell_type": "code",
      "source": [
        "# brute force approach where i just buffer increasingly until the target area is reached\n",
        "# @TODO make this programmatic\n",
        "canopy_gdf['buffered'] = canopy_gdf['geometry'].buffer(0.2)\n",
        "new_area = (canopy_gdf['buffered'].area).sum(axis=0)\n",
        "print(new_area)"
      ],
      "metadata": {
        "colab": {
          "base_uri": "https://localhost:8080/"
        },
        "id": "nh4oqP1m7tRm",
        "outputId": "9d47192b-b660-49aa-8c91-db4ae7d40b4e"
      },
      "execution_count": null,
      "outputs": [
        {
          "output_type": "stream",
          "name": "stdout",
          "text": [
            "34921.16088770461\n"
          ]
        }
      ]
    },
    {
      "cell_type": "markdown",
      "source": [
        "buffering the canopy by 0.2m will achieve the 5% increase goal"
      ],
      "metadata": {
        "id": "da8ySzlL8OR-"
      }
    },
    {
      "cell_type": "code",
      "source": [
        "goal_canopy_gdf = canopy_gdf.copy()\n",
        "goal_canopy_gdf = goal_canopy_gdf.to_crs('EPSG:4326')\n",
        "goal_canopy_gdf = goal_canopy_gdf.drop(columns='geometry')\n",
        "goal_canopy_gdf = goal_canopy_gdf.rename(columns = {'buffered':'geometry'})\n",
        "goal_canopy_gdf.to_file('goal_canopy.shp')"
      ],
      "metadata": {
        "id": "8_WNlHyZ8Vgu"
      },
      "execution_count": null,
      "outputs": []
    },
    {
      "cell_type": "code",
      "source": [
        "goal_canopy_gdf = goal_canopy_gdf.to_crs('EPSG:4326')"
      ],
      "metadata": {
        "id": "mWPzyZOX-BbW"
      },
      "execution_count": null,
      "outputs": []
    },
    {
      "cell_type": "code",
      "source": [
        "goal_canopy_gdf.to_file(goal_canopy_outfp)"
      ],
      "metadata": {
        "id": "TD1Z70gb-Mm3"
      },
      "execution_count": null,
      "outputs": []
    },
    {
      "cell_type": "code",
      "source": [
        "goal_canopy_gdf.head()"
      ],
      "metadata": {
        "colab": {
          "base_uri": "https://localhost:8080/",
          "height": 206
        },
        "id": "wDMO30Yf9edm",
        "outputId": "999462f6-e453-4c11-fdbd-589912c46daf"
      },
      "execution_count": null,
      "outputs": [
        {
          "output_type": "execute_result",
          "data": {
            "text/plain": [
              "   OBJECTID  LASTUPDATE LASTEDITOR        Layer  ShapeSTAre  ShapeSTLen  \\\n",
              "0     22826  2013-11-27       None  Tree_Canopy  173.033203   48.223252   \n",
              "1     22827  2013-11-27       None  Tree_Canopy  321.172852   70.058620   \n",
              "2     22832  2013-11-27       None  Tree_Canopy  323.413086   73.840800   \n",
              "3     22833  2013-11-27       None  Tree_Canopy   48.145508   24.899674   \n",
              "4     22834  2013-11-27       None  Tree_Canopy   52.349609   26.360186   \n",
              "\n",
              "                                            geometry  \n",
              "0  POLYGON ((-122.10636 37.39983, -122.10636 37.3...  \n",
              "1  POLYGON ((-122.10653 37.39960, -122.10653 37.3...  \n",
              "2  POLYGON ((-122.10660 37.39923, -122.10660 37.3...  \n",
              "3  POLYGON ((-122.10624 37.39902, -122.10624 37.3...  \n",
              "4  POLYGON ((-122.10616 37.39886, -122.10616 37.3...  "
            ],
            "text/html": [
              "\n",
              "  <div id=\"df-d0a2085a-2407-4c4c-85e8-cacd1323df4d\">\n",
              "    <div class=\"colab-df-container\">\n",
              "      <div>\n",
              "<style scoped>\n",
              "    .dataframe tbody tr th:only-of-type {\n",
              "        vertical-align: middle;\n",
              "    }\n",
              "\n",
              "    .dataframe tbody tr th {\n",
              "        vertical-align: top;\n",
              "    }\n",
              "\n",
              "    .dataframe thead th {\n",
              "        text-align: right;\n",
              "    }\n",
              "</style>\n",
              "<table border=\"1\" class=\"dataframe\">\n",
              "  <thead>\n",
              "    <tr style=\"text-align: right;\">\n",
              "      <th></th>\n",
              "      <th>OBJECTID</th>\n",
              "      <th>LASTUPDATE</th>\n",
              "      <th>LASTEDITOR</th>\n",
              "      <th>Layer</th>\n",
              "      <th>ShapeSTAre</th>\n",
              "      <th>ShapeSTLen</th>\n",
              "      <th>geometry</th>\n",
              "    </tr>\n",
              "  </thead>\n",
              "  <tbody>\n",
              "    <tr>\n",
              "      <th>0</th>\n",
              "      <td>22826</td>\n",
              "      <td>2013-11-27</td>\n",
              "      <td>None</td>\n",
              "      <td>Tree_Canopy</td>\n",
              "      <td>173.033203</td>\n",
              "      <td>48.223252</td>\n",
              "      <td>POLYGON ((-122.10636 37.39983, -122.10636 37.3...</td>\n",
              "    </tr>\n",
              "    <tr>\n",
              "      <th>1</th>\n",
              "      <td>22827</td>\n",
              "      <td>2013-11-27</td>\n",
              "      <td>None</td>\n",
              "      <td>Tree_Canopy</td>\n",
              "      <td>321.172852</td>\n",
              "      <td>70.058620</td>\n",
              "      <td>POLYGON ((-122.10653 37.39960, -122.10653 37.3...</td>\n",
              "    </tr>\n",
              "    <tr>\n",
              "      <th>2</th>\n",
              "      <td>22832</td>\n",
              "      <td>2013-11-27</td>\n",
              "      <td>None</td>\n",
              "      <td>Tree_Canopy</td>\n",
              "      <td>323.413086</td>\n",
              "      <td>73.840800</td>\n",
              "      <td>POLYGON ((-122.10660 37.39923, -122.10660 37.3...</td>\n",
              "    </tr>\n",
              "    <tr>\n",
              "      <th>3</th>\n",
              "      <td>22833</td>\n",
              "      <td>2013-11-27</td>\n",
              "      <td>None</td>\n",
              "      <td>Tree_Canopy</td>\n",
              "      <td>48.145508</td>\n",
              "      <td>24.899674</td>\n",
              "      <td>POLYGON ((-122.10624 37.39902, -122.10624 37.3...</td>\n",
              "    </tr>\n",
              "    <tr>\n",
              "      <th>4</th>\n",
              "      <td>22834</td>\n",
              "      <td>2013-11-27</td>\n",
              "      <td>None</td>\n",
              "      <td>Tree_Canopy</td>\n",
              "      <td>52.349609</td>\n",
              "      <td>26.360186</td>\n",
              "      <td>POLYGON ((-122.10616 37.39886, -122.10616 37.3...</td>\n",
              "    </tr>\n",
              "  </tbody>\n",
              "</table>\n",
              "</div>\n",
              "      <button class=\"colab-df-convert\" onclick=\"convertToInteractive('df-d0a2085a-2407-4c4c-85e8-cacd1323df4d')\"\n",
              "              title=\"Convert this dataframe to an interactive table.\"\n",
              "              style=\"display:none;\">\n",
              "        \n",
              "  <svg xmlns=\"http://www.w3.org/2000/svg\" height=\"24px\"viewBox=\"0 0 24 24\"\n",
              "       width=\"24px\">\n",
              "    <path d=\"M0 0h24v24H0V0z\" fill=\"none\"/>\n",
              "    <path d=\"M18.56 5.44l.94 2.06.94-2.06 2.06-.94-2.06-.94-.94-2.06-.94 2.06-2.06.94zm-11 1L8.5 8.5l.94-2.06 2.06-.94-2.06-.94L8.5 2.5l-.94 2.06-2.06.94zm10 10l.94 2.06.94-2.06 2.06-.94-2.06-.94-.94-2.06-.94 2.06-2.06.94z\"/><path d=\"M17.41 7.96l-1.37-1.37c-.4-.4-.92-.59-1.43-.59-.52 0-1.04.2-1.43.59L10.3 9.45l-7.72 7.72c-.78.78-.78 2.05 0 2.83L4 21.41c.39.39.9.59 1.41.59.51 0 1.02-.2 1.41-.59l7.78-7.78 2.81-2.81c.8-.78.8-2.07 0-2.86zM5.41 20L4 18.59l7.72-7.72 1.47 1.35L5.41 20z\"/>\n",
              "  </svg>\n",
              "      </button>\n",
              "      \n",
              "  <style>\n",
              "    .colab-df-container {\n",
              "      display:flex;\n",
              "      flex-wrap:wrap;\n",
              "      gap: 12px;\n",
              "    }\n",
              "\n",
              "    .colab-df-convert {\n",
              "      background-color: #E8F0FE;\n",
              "      border: none;\n",
              "      border-radius: 50%;\n",
              "      cursor: pointer;\n",
              "      display: none;\n",
              "      fill: #1967D2;\n",
              "      height: 32px;\n",
              "      padding: 0 0 0 0;\n",
              "      width: 32px;\n",
              "    }\n",
              "\n",
              "    .colab-df-convert:hover {\n",
              "      background-color: #E2EBFA;\n",
              "      box-shadow: 0px 1px 2px rgba(60, 64, 67, 0.3), 0px 1px 3px 1px rgba(60, 64, 67, 0.15);\n",
              "      fill: #174EA6;\n",
              "    }\n",
              "\n",
              "    [theme=dark] .colab-df-convert {\n",
              "      background-color: #3B4455;\n",
              "      fill: #D2E3FC;\n",
              "    }\n",
              "\n",
              "    [theme=dark] .colab-df-convert:hover {\n",
              "      background-color: #434B5C;\n",
              "      box-shadow: 0px 1px 3px 1px rgba(0, 0, 0, 0.15);\n",
              "      filter: drop-shadow(0px 1px 2px rgba(0, 0, 0, 0.3));\n",
              "      fill: #FFFFFF;\n",
              "    }\n",
              "  </style>\n",
              "\n",
              "      <script>\n",
              "        const buttonEl =\n",
              "          document.querySelector('#df-d0a2085a-2407-4c4c-85e8-cacd1323df4d button.colab-df-convert');\n",
              "        buttonEl.style.display =\n",
              "          google.colab.kernel.accessAllowed ? 'block' : 'none';\n",
              "\n",
              "        async function convertToInteractive(key) {\n",
              "          const element = document.querySelector('#df-d0a2085a-2407-4c4c-85e8-cacd1323df4d');\n",
              "          const dataTable =\n",
              "            await google.colab.kernel.invokeFunction('convertToInteractive',\n",
              "                                                     [key], {});\n",
              "          if (!dataTable) return;\n",
              "\n",
              "          const docLinkHtml = 'Like what you see? Visit the ' +\n",
              "            '<a target=\"_blank\" href=https://colab.research.google.com/notebooks/data_table.ipynb>data table notebook</a>'\n",
              "            + ' to learn more about interactive tables.';\n",
              "          element.innerHTML = '';\n",
              "          dataTable['output_type'] = 'display_data';\n",
              "          await google.colab.output.renderOutput(dataTable, element);\n",
              "          const docLink = document.createElement('div');\n",
              "          docLink.innerHTML = docLinkHtml;\n",
              "          element.appendChild(docLink);\n",
              "        }\n",
              "      </script>\n",
              "    </div>\n",
              "  </div>\n",
              "  "
            ]
          },
          "metadata": {},
          "execution_count": 28
        }
      ]
    },
    {
      "cell_type": "code",
      "source": [
        "goal_canopy_gdf.plot()"
      ],
      "metadata": {
        "colab": {
          "base_uri": "https://localhost:8080/",
          "height": 283
        },
        "id": "lhv6BTmg995X",
        "outputId": "7117e24e-eac8-4f12-8924-a8e270a3fc86"
      },
      "execution_count": null,
      "outputs": [
        {
          "output_type": "execute_result",
          "data": {
            "text/plain": [
              "<matplotlib.axes._subplots.AxesSubplot at 0x7f6fd0b78cd0>"
            ]
          },
          "metadata": {},
          "execution_count": 27
        },
        {
          "output_type": "display_data",
          "data": {
            "text/plain": [
              "<Figure size 432x288 with 1 Axes>"
            ],
            "image/png": "[encoded data removed]"
          },
          "metadata": {
            "needs_background": "light"
          }
        }
      ]
    },
    {
      "cell_type": "markdown",
      "source": [
        "## buffer new canopy (one w trees removed)"
      ],
      "metadata": {
        "id": "OjW7bXYC-7pN"
      }
    },
    {
      "cell_type": "code",
      "source": [
        "new_canopy_gdf = gpd.read_file('new_canopy.shp')\n",
        "new_canopy_gdf = new_canopy_gdf.to_crs(\"EPSG:6933\") # equal area projection\n",
        "new_canopy_gdf.plot()"
      ],
      "metadata": {
        "colab": {
          "base_uri": "https://localhost:8080/",
          "height": 307
        },
        "id": "WmbeO0h7--1c",
        "outputId": "6bae49b9-ea4b-4022-820e-8907d4d1a353"
      },
      "execution_count": null,
      "outputs": [
        {
          "output_type": "execute_result",
          "data": {
            "text/plain": [
              "<matplotlib.axes._subplots.AxesSubplot at 0x7f6fd0a96990>"
            ]
          },
          "metadata": {},
          "execution_count": 30
        },
        {
          "output_type": "display_data",
          "data": {
            "text/plain": [
              "<Figure size 432x288 with 1 Axes>"
            ],
            "image/png": "[encoded data removed]"
          },
          "metadata": {
            "needs_background": "light"
          }
        }
      ]
    },
    {
      "cell_type": "code",
      "source": [
        "#same brute force approach\n",
        "current_area = (new_canopy_gdf['geometry'].area).sum(axis=0)\n",
        "print(current_area)"
      ],
      "metadata": {
        "colab": {
          "base_uri": "https://localhost:8080/"
        },
        "id": "H4sEV8Iu_QSH",
        "outputId": "d66fa947-b07c-4622-a872-e7f65025eb36"
      },
      "execution_count": null,
      "outputs": [
        {
          "output_type": "stream",
          "name": "stdout",
          "text": [
            "32180.877659812006\n"
          ]
        }
      ]
    },
    {
      "cell_type": "code",
      "source": [
        "print(target_area) # use old target area from before"
      ],
      "metadata": {
        "colab": {
          "base_uri": "https://localhost:8080/"
        },
        "id": "XSMQqHlH_a4u",
        "outputId": "6dff1c05-7fae-4dfe-f76b-582faf482147"
      },
      "execution_count": null,
      "outputs": [
        {
          "output_type": "stream",
          "name": "stdout",
          "text": [
            "34645.41655685993\n"
          ]
        }
      ]
    },
    {
      "cell_type": "code",
      "source": [
        "new_canopy_gdf['buffered'] = new_canopy_gdf['geometry'].buffer(0.25) #lol only a 0.05m more\n",
        "new_area = (new_canopy_gdf['buffered'].area).sum(axis=0)\n",
        "print(new_area)"
      ],
      "metadata": {
        "colab": {
          "base_uri": "https://localhost:8080/"
        },
        "id": "0wCFh_yD_ija",
        "outputId": "6e726a51-2efd-46e0-e9cd-44873ff23732"
      },
      "execution_count": null,
      "outputs": [
        {
          "output_type": "stream",
          "name": "stdout",
          "text": [
            "34652.03831867862\n"
          ]
        }
      ]
    },
    {
      "cell_type": "code",
      "source": [
        "goal_canopy2_gdf = goal_canopy2_gdf.to_crs('EPSG:4326')\n",
        "goal_canopy2_gdf.plot()"
      ],
      "metadata": {
        "colab": {
          "base_uri": "https://localhost:8080/",
          "height": 283
        },
        "id": "qsuEIe5__7az",
        "outputId": "e7848b5d-fc71-4d25-d5d1-73bb9f3dd10c"
      },
      "execution_count": null,
      "outputs": [
        {
          "output_type": "execute_result",
          "data": {
            "text/plain": [
              "<matplotlib.axes._subplots.AxesSubplot at 0x7f6fd0b25850>"
            ]
          },
          "metadata": {},
          "execution_count": 42
        },
        {
          "output_type": "display_data",
          "data": {
            "text/plain": [
              "<Figure size 432x288 with 1 Axes>"
            ],
            "image/png": "[encoded data removed]"
          },
          "metadata": {
            "needs_background": "light"
          }
        }
      ]
    },
    {
      "cell_type": "code",
      "source": [
        "goal_canopy2_gdf = new_canopy_gdf.copy()\n",
        "goal_canopy2_gdf = goal_canopy2_gdf.to_crs('EPSG:4326')\n",
        "goal_canopy2_gdf = goal_canopy2_gdf.drop(columns='geometry')\n",
        "goal_canopy2_gdf = goal_canopy2_gdf.rename(columns = {'buffered':'geometry'})"
      ],
      "metadata": {
        "colab": {
          "base_uri": "https://localhost:8080/",
          "height": 307
        },
        "id": "3OYAillP_uWF",
        "outputId": "5748c744-5d6f-42cb-8b72-04313b26d673"
      },
      "execution_count": null,
      "outputs": [
        {
          "output_type": "execute_result",
          "data": {
            "text/plain": [
              "<matplotlib.axes._subplots.AxesSubplot at 0x7f6fd09093d0>"
            ]
          },
          "metadata": {},
          "execution_count": 39
        },
        {
          "output_type": "display_data",
          "data": {
            "text/plain": [
              "<Figure size 432x288 with 1 Axes>"
            ],
            "image/png": "[encoded data removed]"
          },
          "metadata": {
            "needs_background": "light"
          }
        }
      ]
    },
    {
      "cell_type": "code",
      "source": [
        "goal_canopy2_gdf.to_file(goal_canopy2_outfp)"
      ],
      "metadata": {
        "id": "x629fbnWAEpm"
      },
      "execution_count": null,
      "outputs": []
    }
  ]
}